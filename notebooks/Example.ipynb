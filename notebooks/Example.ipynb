{
 "cells": [
  {
   "cell_type": "markdown",
   "metadata": {},
   "source": [
    "# Using Adamalib\n",
    "\n",
    "This notebook shows an example of using [adamalib]() to control [Adama]()."
   ]
  },
  {
   "cell_type": "markdown",
   "metadata": {},
   "source": [
    "First, define the location of the Adama server.\n",
    "\n",
    "The official server is: \n",
    "\n",
    "> https://api.araport.org/community/v0.3\n",
    "    \n",
    "For a development environment the URL may differ (for example: `http://localhost/community/v0.3`).  Use a URL such that `URL/status` reaches the `status` endpoint of your server."
   ]
  },
  {
   "cell_type": "code",
   "execution_count": 4,
   "metadata": {
    "collapsed": true
   },
   "outputs": [],
   "source": [
    "API = 'http://192.168.35.10/community/v0.3'"
   ]
  },
  {
   "cell_type": "markdown",
   "metadata": {},
   "source": [
    "The official Adama server requires a bearer token, but other test services may not need it. Leave it empty in such case."
   ]
  },
  {
   "cell_type": "code",
   "execution_count": 9,
   "metadata": {
    "collapsed": true
   },
   "outputs": [],
   "source": [
    "TOKEN = 'mytoken'"
   ]
  },
  {
   "cell_type": "markdown",
   "metadata": {},
   "source": [
    "Create an `adama` object bound to the API server:"
   ]
  },
  {
   "cell_type": "code",
   "execution_count": 10,
   "metadata": {
    "collapsed": true
   },
   "outputs": [],
   "source": [
    "import adamalib\n",
    "adama = adamalib.Adama(TOKEN, API)"
   ]
  },
  {
   "cell_type": "markdown",
   "metadata": {},
   "source": [
    "Check that the object is correctly linked by asking the status of the server. This is equivalent to performing a `GET` request to the endpoint `API/status`.  It should return a dictionary of the form:\n",
    "```python\n",
    "{u'api': u'Adama v0.3',\n",
    " u'hash': u'...',\n",
    " u'status': u'success'}\n",
    "```"
   ]
  },
  {
   "cell_type": "code",
   "execution_count": 11,
   "metadata": {
    "collapsed": false
   },
   "outputs": [
    {
     "data": {
      "text/plain": [
       "{u'api': u'Adama v0.3',\n",
       " u'hash': u'a8cba706a661c0adc24ddd7ad0b2d5ceeb1df831',\n",
       " u'status': u'success'}"
      ]
     },
     "execution_count": 11,
     "metadata": {},
     "output_type": "execute_result"
    }
   ],
   "source": [
    "adama.status"
   ]
  }
 ],
 "metadata": {
  "kernelspec": {
   "display_name": "Python 2",
   "language": "python",
   "name": "python2"
  },
  "language_info": {
   "codemirror_mode": {
    "name": "ipython",
    "version": 2
   },
   "file_extension": ".py",
   "mimetype": "text/x-python",
   "name": "python",
   "nbconvert_exporter": "python",
   "pygments_lexer": "ipython2",
   "version": "2.7.6"
  }
 },
 "nbformat": 4,
 "nbformat_minor": 0
}
